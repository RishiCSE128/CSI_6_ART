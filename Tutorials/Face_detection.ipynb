{
 "cells": [
  {
   "cell_type": "markdown",
   "metadata": {},
   "source": [
    "# Face detection \n",
    "\n",
    "_The face detection algorithms detects facial pattern through varios classifiers in an image to detect if there is a face in it_. In this tutorial, we shall see the following most popular algorithms on Face Detaction and apply them through python.\n",
    "1. __Haarcascade Classifier__: This the most simple face ddetection algorithm for detecting Face and Eyes. This classifier along with detecting faces, can also detect other objects like a human body or cars. \n",
    "2. __Histogram of Oriented Gradient (HOG)__: HOG is more effiecient that Haarcascade. \n",
    "3. __Convolutional Neural Network (CNN)__: CNN is aguably the most robust algorithm for face and object detection.   \n",
    "\n",
    "In the implementation, we shall use OpenCV for the Haarcascade classifier and Dlib library for HOG and CNN. Note that, we're not going to build the classifier in this Lab, rather we shall see how to leverage existinig classifiers for detecting objects. Building classifiers fall  under the discussion of Feature Training which will be covered during upcoming sections of this course."
   ]
  },
  {
   "cell_type": "markdown",
   "metadata": {},
   "source": [
    "# Task 1: HaarCascade Classifier "
   ]
  },
  {
   "cell_type": "markdown",
   "metadata": {},
   "source": [
    "## 1.1. Brief of Haarcasde classifier\n",
    "\n",
    "* Every image is comprised by a grid of pixels. The shape of the grid in $m\\times n$ called the resolution and the number of bits represent each pixel is called the bit-depth or color-depth. \n",
    "* In face detection it is a common practice to convert a color image into a grey-scale image; because, a greay scale image reduces the image size by 67% having preserved all the patterns for detection. \n",
    "* Steps\n",
    "    1. The classifier is trained with two sets of objects one with faces and the other expect face. \n",
    "    2. The training samples then gets fed into AdaBoost training algorithm for computing the classifiers by the facial features.\n",
    "    3. An passes through all the classifiers, if all the features are detected then Haarcaascade detects a face in it. The number of features passed determines the confifence value. If the confidence value does not exceed a cirtain theshold, the algorithm does not detect an face. \n",
    "    4. The classifier segments an image into multiple sub-areas and applies step 3 on each segment. When a Face is found at any segment the location of the segment is returned.\n",
    "\n",
    "\n"
   ]
  },
  {
   "cell_type": "code",
   "execution_count": 1,
   "metadata": {},
   "outputs": [],
   "source": [
    "import cv2 as cv    #import the openCV library"
   ]
  },
  {
   "cell_type": "markdown",
   "metadata": {},
   "source": [
    "__Step 1__: Load an image from local directory"
   ]
  },
  {
   "cell_type": "code",
   "execution_count": 3,
   "metadata": {},
   "outputs": [],
   "source": [
    "image = cv.imread('images/people2.jpg')    # read the image \n",
    "# cv.imshow(winname='original', mat=image)   # show the image \n",
    "# cv.waitKey(0)"
   ]
  },
  {
   "cell_type": "markdown",
   "metadata": {},
   "source": [
    "![](figs/fd_1.png)"
   ]
  },
  {
   "cell_type": "markdown",
   "metadata": {},
   "source": [
    "First lets see the image resolution"
   ]
  },
  {
   "cell_type": "code",
   "execution_count": 4,
   "metadata": {},
   "outputs": [
    {
     "name": "stdout",
     "output_type": "stream",
     "text": [
      "Resolution is 600 X 800 with 3 color channels\n"
     ]
    }
   ],
   "source": [
    "height, width, depth = image.shape\n",
    "print(f'Resolution is {height} X {width} with {depth} color channels')"
   ]
  },
  {
   "cell_type": "markdown",
   "metadata": {},
   "source": [
    "__Step 2__: downscale the image for larger image "
   ]
  },
  {
   "cell_type": "code",
   "execution_count": 51,
   "metadata": {},
   "outputs": [
    {
     "data": {
      "text/plain": [
       "-1"
      ]
     },
     "execution_count": 51,
     "metadata": {},
     "output_type": "execute_result"
    }
   ],
   "source": [
    "scale_factor = 0.75     # set the scale factor \n",
    "if scale_factor == 1:\n",
    "    image_scalled = image\n",
    "else:\n",
    "    image_scalled = cv.resize(image,                                                   # source image \n",
    "                            (int(width * scale_factor), int(height * scale_factor)),  # target resolution \n",
    "                            interpolation=cv.INTER_AREA)                              # interpolation used\n",
    "cv.imshow(winname='Scalled', mat=image_scalled)   # show the image \n",
    "cv.waitKey(0)                     "
   ]
  },
  {
   "cell_type": "markdown",
   "metadata": {},
   "source": [
    "![](figs/fd2.png)"
   ]
  },
  {
   "cell_type": "markdown",
   "metadata": {},
   "source": [
    "__Step 3:__  Convert the image into a Greayscale image"
   ]
  },
  {
   "cell_type": "code",
   "execution_count": 52,
   "metadata": {},
   "outputs": [
    {
     "name": "stdout",
     "output_type": "stream",
     "text": [
      "Resolution is 450 X 600\n"
     ]
    }
   ],
   "source": [
    "image_grey = cv.cvtColor(image_scalled,cv.COLOR_BGR2GRAY)      # converting into a grey scale\n",
    "cv.imshow(winname='Greyscaled', mat=image_grey)   # show the image \n",
    "cv.waitKey(0)   \n",
    "\n",
    "#print the image resolution   \n",
    "height, width = image_grey.shape\n",
    "print(f'Resolution is {height} X {width}')"
   ]
  },
  {
   "cell_type": "markdown",
   "metadata": {},
   "source": [
    "![](figs/fd_3.png)"
   ]
  },
  {
   "cell_type": "markdown",
   "metadata": {},
   "source": [
    "__Step 4:__ Creatinig a face detector and detect faces\n",
    "The pretained classifiers can be found at : https://github.com/opencv/opencv/tree/master/data/haarcascades. The files are located locally in the `classifier/haarcascade` folder. "
   ]
  },
  {
   "cell_type": "code",
   "execution_count": 53,
   "metadata": {},
   "outputs": [],
   "source": [
    "## 4.1. Load the classifier \n",
    "face_detector = cv.CascadeClassifier(cv.data.haarcascades + \"haarcascade_frontalface_default.xml\")"
   ]
  },
  {
   "cell_type": "code",
   "execution_count": 55,
   "metadata": {},
   "outputs": [
    {
     "name": "stdout",
     "output_type": "stream",
     "text": [
      "[[231 275 150 150]\n",
      " [158 174 119 119]\n",
      " [330  35 118 118]\n",
      " [ 41 150 151 151]\n",
      " [222  54 121 121]\n",
      " [349 257 180 180]]\n"
     ]
    }
   ],
   "source": [
    "# 4.2. Detect faces \n",
    "face_detected = face_detector.detectMultiScale(image_grey, \n",
    "                                              scaleFactor = 1.1, # scale according to the face size (>=1) \n",
    "                                              minNeighbors = 5,  # reduces False positives \n",
    "                                              minSize = (10,10)) # min size of a face to be detected\n",
    "                                               \n",
    "print(face_detected)   # returns a list of [x, y, width, height] of the detected area "
   ]
  },
  {
   "cell_type": "markdown",
   "metadata": {},
   "source": [
    "__Step 5:__ Draw reactangle around the face "
   ]
  },
  {
   "cell_type": "code",
   "execution_count": 23,
   "metadata": {},
   "outputs": [],
   "source": [
    "temp = None\n",
    "temp = image_scalled.copy()   # duplicate the image\n",
    "for x,y,w,h in face_detected:\n",
    "    # determine point1 and point2\n",
    "    top_left = (x,y)\n",
    "    bottom_right = (x+h, y+w)\n",
    "    image_marked = cv.rectangle(temp, pt1=top_left, pt2=bottom_right, color=(0,255,0),thickness=2) #draw rect\n",
    "\n",
    "cv.imshow('Face_detected', image_marked)\n",
    "cv.waitKey(0)\n",
    "cv.destroyAllWindows()"
   ]
  },
  {
   "cell_type": "markdown",
   "metadata": {},
   "source": [
    "![](figs/fd_4.png)"
   ]
  },
  {
   "cell_type": "markdown",
   "metadata": {},
   "source": [
    "# 1.2. Face Detection from a video & Live source "
   ]
  },
  {
   "cell_type": "code",
   "execution_count": 6,
   "metadata": {},
   "outputs": [],
   "source": [
    "import cv2 as cv\n",
    "def face_detect(frame, scale, face_detector):\n",
    "    '''\n",
    "    Input : Frame \n",
    "    output: Frame with face detected \n",
    "    '''\n",
    "    height, width, channel = frame.shape\n",
    "    if scale == 1:\n",
    "        frame_scalled = frame\n",
    "    else:\n",
    "        frame_scalled = cv.resize(frame,                                                   # source image \n",
    "                                (int(width * scale), int(height * scale)),  # target resolution \n",
    "                                interpolation=cv.INTER_AREA\n",
    "                        )  \n",
    "    frame_gr = cv.cvtColor(frame_scalled, cv.COLOR_BGR2GRAY)\n",
    "    \n",
    "    face_detected = face_detector.detectMultiScale(frame_gr)\n",
    "    number_of_faces = len(face_detected)\n",
    "    count = number_of_faces\n",
    "    if count:\n",
    "        for x,y,w,h in face_detected:\n",
    "            cv.rectangle(img=frame_scalled,\n",
    "                         pt1=(x,y), pt2=(x+h,y+h), \n",
    "                         color=(255,0,255),\n",
    "                         thickness=2)\n",
    "            cv.putText(img=frame_scalled,\n",
    "                       text=f'Face {count}', \n",
    "                       org=(x,y),\n",
    "                       fontFace=cv.FONT_HERSHEY_PLAIN, \n",
    "                       fontScale=1, \n",
    "                       color=(0,255), \n",
    "                       thickness=1)\n",
    "            count-=1\n",
    "    \n",
    "    cv.putText(img=frame_scalled,\n",
    "               text=f'Face Count = {number_of_faces}', \n",
    "               org=(50,50),\n",
    "               fontFace=cv.FONT_HERSHEY_PLAIN,\n",
    "               fontScale=2, \n",
    "               color=(0,255,255), \n",
    "               thickness=2)\n",
    "    return frame_scalled\n",
    "\n",
    "def read_video(src, scale):\n",
    "    capture = cv.VideoCapture(src)\n",
    "    face_detector = cv.CascadeClassifier(cv.data.haarcascades + \"haarcascade_frontalface_default.xml\")\n",
    "    while True:\n",
    "        isTrue, frame = capture.read()\n",
    "        frame_org = frame.copy()\n",
    "        frame_marked = face_detect(frame, scale, face_detector)\n",
    "        cv.imshow(winname='Original', mat=frame_org)\n",
    "        cv.imshow(winname='Face Detected', mat=frame_marked)\n",
    "        if cv.waitKey(20) & 0xFF == ord('d'):        # stop the video is the key 'd' is pressed (you can change as per your choice)\n",
    "            break\n",
    "    capture.release()  \n",
    "    cv.destroyAllWindows()"
   ]
  },
  {
   "cell_type": "code",
   "execution_count": 10,
   "metadata": {},
   "outputs": [],
   "source": [
    "scale = 1\n",
    "read_video(src=0, scale=scale)"
   ]
  },
  {
   "cell_type": "markdown",
   "metadata": {},
   "source": [
    "![](figs/fd_5.png)"
   ]
  },
  {
   "cell_type": "markdown",
   "metadata": {},
   "source": [
    "# Task 2: Face detection using HOG"
   ]
  },
  {
   "cell_type": "code",
   "execution_count": 4,
   "metadata": {},
   "outputs": [],
   "source": [
    "import matplotlib.pyplot as plt\n",
    "%matplotlib inline"
   ]
  },
  {
   "cell_type": "code",
   "execution_count": 5,
   "metadata": {},
   "outputs": [
    {
     "data": {
      "image/png": "[encoded data removed]",
      "text/plain": [
       "<Figure size 432x288 with 2 Axes>"
      ]
     },
     "metadata": {
      "needs_background": "light"
     },
     "output_type": "display_data"
    }
   ],
   "source": [
    "fig, ax = plt.subplots(nrows=1, ncols=2);   # create a plot for the images\n",
    "plt.show()"
   ]
  },
  {
   "cell_type": "markdown",
   "metadata": {},
   "source": [
    "__Step 1:__ Read the image"
   ]
  },
  {
   "cell_type": "code",
   "execution_count": 2,
   "metadata": {},
   "outputs": [],
   "source": [
    "import dlib      # to install: pip install cmake wheel dlib \n",
    "import cv2 as cv # for reading images\n",
    "\n",
    "image = cv.imread('images/people2.jpg')\n",
    "image_rgb = cv.cvtColor(image, cv.COLOR_BGR2RGB)\n",
    "\n",
    "# cv.imshow(winname='Original', mat=image)\n",
    "# cv.waitKey(0)"
   ]
  },
  {
   "cell_type": "markdown",
   "metadata": {},
   "source": [
    "![](figs/image_org.png)"
   ]
  },
  {
   "cell_type": "markdown",
   "metadata": {},
   "source": [
    "__Step 2__: Create a classifier"
   ]
  },
  {
   "cell_type": "code",
   "execution_count": 3,
   "metadata": {},
   "outputs": [],
   "source": [
    "face_detector = dlib.get_frontal_face_detector()    # create a fronal face detector object "
   ]
  },
  {
   "cell_type": "markdown",
   "metadata": {},
   "source": [
    "__STep 3__: Detect Faces"
   ]
  },
  {
   "cell_type": "code",
   "execution_count": 4,
   "metadata": {},
   "outputs": [
    {
     "name": "stdout",
     "output_type": "stream",
     "text": [
      "Face Positions\n",
      "------------------------------------\n",
      "\t face 0 \t = [(231, 259) (355, 383)]\n",
      "\t face 1 \t = [(313, 393) (492, 572)]\n",
      "\t face 2 \t = [(74, 214) (254, 393)]\n",
      "\t face 3 \t = [(427, 62) (576, 211)]\n",
      "\t face 4 \t = [(314, 107) (438, 231)]\n",
      "\t face 5 \t = [(452, 337) (710, 595)]\n",
      "------------------------------------\n",
      "Number of face dettected = 6\n"
     ]
    }
   ],
   "source": [
    "face_detected = face_detector(image)  # apply face detection on a given image\n",
    "print('Face Positions')\n",
    "print('------------------------------------')\n",
    "for i  in range(len(face_detected)):\n",
    "    print(f'\\t face {i} \\t = {face_detected[i]}')\n",
    "print('------------------------------------')\n",
    "print(f'Number of face dettected = {len(face_detected)}')"
   ]
  },
  {
   "cell_type": "markdown",
   "metadata": {},
   "source": [
    "__Step 4__: Mark Faces "
   ]
  },
  {
   "cell_type": "code",
   "execution_count": 5,
   "metadata": {},
   "outputs": [
    {
     "data": {
      "text/plain": [
       "233"
      ]
     },
     "execution_count": 5,
     "metadata": {},
     "output_type": "execute_result"
    }
   ],
   "source": [
    "image_marked = image.copy()\n",
    "for face in face_detected:\n",
    "    top_left, bottom_right = (face.left(), face.top()),(face.right(), face.bottom())\n",
    "    cv.rectangle(img=image_marked, pt1=top_left, pt2=bottom_right, color=(0,255,0), thickness=2) # mark faces\n",
    "cv.imshow(winname='Marked', mat=image_marked)\n",
    "cv.waitKey(0)"
   ]
  },
  {
   "cell_type": "markdown",
   "metadata": {},
   "source": [
    "![](figs/image_marked.png)"
   ]
  },
  {
   "cell_type": "markdown",
   "metadata": {},
   "source": [
    "## Task 2.2. Apply HOG on a live source"
   ]
  },
  {
   "cell_type": "code",
   "execution_count": 1,
   "metadata": {},
   "outputs": [],
   "source": [
    "import dlib\n",
    "import cv2 as cv"
   ]
  },
  {
   "cell_type": "code",
   "execution_count": 5,
   "metadata": {},
   "outputs": [],
   "source": [
    "# HOG Based Face detection\n",
    "\n",
    "def hog_detection(frame, classfier):\n",
    "    hog_face_detector = classfier\n",
    "    face_detected = hog_face_detector(frame)\n",
    "\n",
    "    face_count = len(face_detected)\n",
    "\n",
    "    ## face count\n",
    "    cv.putText(img=frame,\n",
    "               text=f'Face Count = {face_count}',\n",
    "               color=(0,255,255),\n",
    "               org=(50,50),fontFace=cv.FONT_HERSHEY_PLAIN,\n",
    "               thickness=2, \n",
    "               fontScale=2\n",
    "               )\n",
    "\n",
    "    for face in face_detected:\n",
    "        t,b,l,r=  face.top(), face.bottom(), face.left(), face.right()\n",
    "        \n",
    "        #mark face\n",
    "        cv.rectangle(img=frame, \n",
    "                     pt1=(l,t), pt2=(r,b), \n",
    "                     color=(0,255,0), thickness=2) \n",
    "        ## Face label \n",
    "        cv.putText(img=frame,\n",
    "                    text=f'Face {face_count}',\n",
    "                    color=(255,0,255),\n",
    "                    org=(l,t-10),fontFace=cv.FONT_HERSHEY_PLAIN, \n",
    "                    thickness=2,\n",
    "                    fontScale=1\n",
    "                    )\n",
    "        face_count -= 1\n",
    "    return frame"
   ]
  },
  {
   "cell_type": "code",
   "execution_count": 6,
   "metadata": {},
   "outputs": [],
   "source": [
    "def read_video(src, scale):\n",
    "    capture = cv.VideoCapture(src)\n",
    "    face_detector = dlib.get_frontal_face_detector()\n",
    "    while True:\n",
    "        isTrue, frame = capture.read()\n",
    "        frame_org = frame.copy()\n",
    "        frame_marked = hog_detection(frame, face_detector)\n",
    "        cv.imshow(winname='Original', mat=frame_org)\n",
    "        cv.imshow(winname='Face Detected', mat=frame_marked)\n",
    "        if cv.waitKey(20) & 0xFF == ord('d'):        # stop the video is the key 'd' is pressed (you can change as per your choice)\n",
    "            break\n",
    "    capture.release()  \n",
    "    cv.destroyAllWindows()"
   ]
  },
  {
   "cell_type": "code",
   "execution_count": 7,
   "metadata": {},
   "outputs": [],
   "source": [
    "src=0\n",
    "scale=1\n",
    "read_video(src,scale)"
   ]
  },
  {
   "cell_type": "markdown",
   "metadata": {},
   "source": [
    "![](figs/hog_face_detected.png)"
   ]
  },
  {
   "cell_type": "markdown",
   "metadata": {},
   "source": [
    "# Task3: Facial point detection \n",
    "\n",
    "You will need the dataset from here: https://pyimagesearch.com/2017/04/03/facial-landmarks-dlib-opencv-python/"
   ]
  },
  {
   "cell_type": "code",
   "execution_count": 8,
   "metadata": {},
   "outputs": [],
   "source": [
    "import dlib\n",
    "import cv2 as cv"
   ]
  },
  {
   "cell_type": "code",
   "execution_count": 9,
   "metadata": {},
   "outputs": [
    {
     "data": {
      "text/plain": [
       "233"
      ]
     },
     "execution_count": 9,
     "metadata": {},
     "output_type": "execute_result"
    }
   ],
   "source": [
    "image = cv.imread('images/people2.jpg')             # step1: Read image \n",
    "\n",
    "face_detector = dlib.get_frontal_face_detector()    # step2: create face detector objecct\n",
    "face_detected = face_detector(image)                # step3: detect faces \n",
    "\n",
    "point_detector = dlib.shape_predictor('Classifiers/68_FPLM/shape_predictor_68_face_landmarks.dat') # step4: load the 68 Facial point lnadmark dataset\n",
    "\n",
    "# step5: mark faces\n",
    "image_marked = image.copy()       # create a temp. replica  \n",
    "face_count = len(face_detected)\n",
    "for face in face_detected:\n",
    "    t,b,l,r = face.top(), face.bottom(), face.left(), face.right()\n",
    "    cv.rectangle(img=image_marked, \n",
    "                     pt1=(l,t), pt2=(r,b), \n",
    "                     color=(0,255,0), thickness=2) \n",
    "\n",
    "    # step6: mark landmark\n",
    "    points = point_detector(image, face)       # 68 points for each face\n",
    "    for point in points.parts():\n",
    "        cv.circle(img=image_marked, \n",
    "                  center=(point.x, point.y), radius=2, \n",
    "                  color=(0,0,255), thickness=-1\n",
    "         )  # plot each point \n",
    "\n",
    "\n",
    "\n",
    "cv.imshow(winname='original', mat=image)\n",
    "cv.imshow(winname='Marked', mat=image_marked)\n",
    "cv.waitKey(0)"
   ]
  },
  {
   "cell_type": "markdown",
   "metadata": {},
   "source": [
    "![](figs/fpoint.png)"
   ]
  },
  {
   "cell_type": "markdown",
   "metadata": {},
   "source": [
    "## Task 3.2: Apply 68 Facial landmarks on live feed "
   ]
  },
  {
   "cell_type": "code",
   "execution_count": 2,
   "metadata": {},
   "outputs": [],
   "source": [
    "import dlib\n",
    "import cv2 as cv"
   ]
  },
  {
   "cell_type": "code",
   "execution_count": 3,
   "metadata": {},
   "outputs": [],
   "source": [
    "\n",
    "# HOG Based Face detection + 68 facial point detection\n",
    "\n",
    "def landmark_detection(frame, hog_model, fp_model):\n",
    "    '''\n",
    "    hog_model : hog classifier object\n",
    "    fp_model : 68 facial point predictor object \n",
    "    '''\n",
    "    hog_face_detector = hog_model\n",
    "    point_predictor = fp_model\n",
    "\n",
    "    face_detected = hog_face_detector(frame)\n",
    "\n",
    "    face_count = len(face_detected)\n",
    "\n",
    "    ## face count\n",
    "    cv.putText(img=frame,\n",
    "               text=f'Face Count = {face_count}',\n",
    "               color=(0,255,255),\n",
    "               org=(50,50),fontFace=cv.FONT_HERSHEY_PLAIN,\n",
    "               thickness=2, \n",
    "               fontScale=2\n",
    "               )\n",
    "\n",
    "    for face in face_detected:\n",
    "        t,b,l,r=  face.top(), face.bottom(), face.left(), face.right()\n",
    "        points = fp_model(frame, face)\n",
    "        \n",
    "        #mark face\n",
    "        cv.rectangle(img=frame, \n",
    "                     pt1=(l,t), pt2=(r,b), \n",
    "                     color=(0,255,0), thickness=2) \n",
    "        ## Face label \n",
    "        cv.putText(img=frame,\n",
    "                    text=f'Face {face_count}',\n",
    "                    color=(255,0,255),\n",
    "                    org=(l,t-10),fontFace=cv.FONT_HERSHEY_PLAIN, \n",
    "                    thickness=2,\n",
    "                    fontScale=1\n",
    "                    )\n",
    "        face_count-=1\n",
    "\n",
    "        ## plot points\n",
    "        for point in points.parts():\n",
    "            cv.circle(img=frame, \n",
    "                      center=(point.x, point.y), radius=2, \n",
    "                      color=(0,0,255), thickness=-1)\n",
    "    return frame"
   ]
  },
  {
   "cell_type": "code",
   "execution_count": 4,
   "metadata": {},
   "outputs": [],
   "source": [
    "def read_video(src, scale):\n",
    "    print('Initializing Camera...')\n",
    "    capture = cv.VideoCapture(src)  \n",
    "    \n",
    "    print('Loading HOG Face detection model...')\n",
    "    face_detector = dlib.get_frontal_face_detector()     # create hog object \n",
    "    \n",
    "    print('Loading 68 Facial Landmark model...')\n",
    "    point_predictor = dlib.shape_predictor('Classifiers/68_FPLM/shape_predictor_68_face_landmarks.dat') # create fp object \n",
    "    \n",
    "    print('Rendering...')\n",
    "    while True:\n",
    "        isTrue, frame = capture.read()\n",
    "        frame_org = frame.copy()\n",
    "        frame_marked = landmark_detection(frame, hog_model=face_detector, fp_model=point_predictor)\n",
    "        cv.imshow(winname='Original', mat=frame_org)\n",
    "        cv.imshow(winname='Face Detected', mat=frame_marked)\n",
    "        if cv.waitKey(20) & 0xFF == ord('d'):        # stop the video is the key 'd' is pressed (you can change as per your choice)\n",
    "            break\n",
    "    capture.release()  \n",
    "    cv.destroyAllWindows()"
   ]
  },
  {
   "cell_type": "code",
   "execution_count": 5,
   "metadata": {},
   "outputs": [
    {
     "name": "stdout",
     "output_type": "stream",
     "text": [
      "Initializing Camera...\n",
      "Loading HOG Face detection model...\n",
      "Loading 68 Facial Landmark model...\n",
      "Rendering...\n"
     ]
    }
   ],
   "source": [
    "src=0                 #select source \n",
    "scale=1               #select scale\n",
    "read_video(src,scale) # run"
   ]
  },
  {
   "cell_type": "markdown",
   "metadata": {},
   "source": [
    "![](figs/face_points.png)"
   ]
  },
  {
   "cell_type": "markdown",
   "metadata": {},
   "source": []
  }
 ],
 "metadata": {
  "interpreter": {
   "hash": "68aba9d269748a66a81cf2fb1202c87b1de056993fe70c4fea8f276412ef4f9d"
  },
  "kernelspec": {
   "display_name": "Python 3.9.5 ('venv': venv)",
   "language": "python",
   "name": "python3"
  },
  "language_info": {
   "codemirror_mode": {
    "name": "ipython",
    "version": 3
   },
   "file_extension": ".py",
   "mimetype": "text/x-python",
   "name": "python",
   "nbconvert_exporter": "python",
   "pygments_lexer": "ipython3",
   "version": "3.8.10"
  },
  "orig_nbformat": 4
 },
 "nbformat": 4,
 "nbformat_minor": 2
}
