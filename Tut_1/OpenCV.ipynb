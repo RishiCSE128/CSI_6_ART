{
 "cells": [
  {
   "cell_type": "markdown",
   "metadata": {},
   "source": [
    "# Installing OpenCV\n",
    "\n",
    "## Check for the prerequisites\n",
    "Before you start, make sure the initial prerequisites are satisfied. Do the following check at the VSCode terminal (go to __Terminal__ tab then click on __new terminal__ or use the shortcut __CTRL + Shift + '__). \n",
    "\n",
    "1. Check for python : `python3 --version`\n",
    "2. Activate the environment : `source venv/bin/activate`\n",
    "3. pip is up-to-date : `python3 -m pip install --upgrade pip`"
   ]
  },
  {
   "cell_type": "markdown",
   "metadata": {},
   "source": [
    "## Installing packages\n",
    "\n",
    "* The `opencv-python` is the original python version for OpenCV which was originally developed using C++. \n",
    "* The `opencv-contrib-python` inherits the OpenCV base package, also it includes several contribution modules which are contributed by the OpenSource community.\n",
    "* OpenCV also installs `numpy` module for scientific computation as beneath the OpenCV main module all the numerical and linear algebraic operations are performed by numpy. \n",
    "* The `caer` package is an additional package that wraps several OpenCV functions for ease of use. \n",
    "\n",
    "`python3 -m pip install opencv-contrib-python caer`"
   ]
  },
  {
   "cell_type": "markdown",
   "metadata": {},
   "source": [
    "# Task 1: Reading Images and Videos"
   ]
  },
  {
   "cell_type": "markdown",
   "metadata": {},
   "source": [
    "First import the openCV module as cv"
   ]
  },
  {
   "cell_type": "code",
   "execution_count": 1,
   "metadata": {},
   "outputs": [],
   "source": [
    "import cv2 as cv"
   ]
  },
  {
   "cell_type": "markdown",
   "metadata": {},
   "source": [
    "## 1.1. Reading an Image"
   ]
  },
  {
   "cell_type": "markdown",
   "metadata": {},
   "source": [
    "Run the following code, it must show up the __sample1.jpg__ image located at the __images__ folder. "
   ]
  },
  {
   "cell_type": "code",
   "execution_count": 3,
   "metadata": {},
   "outputs": [],
   "source": [
    "image_loc = 'images/sample2.jpg'  # defines the image location \n",
    "try:  # the exception handling prevents any accidental crash \n",
    "    img = cv.imread(image_loc)  # reads the image as a matrix \n",
    "    cv.imshow(winname='image', mat=img) # shows the image in a window \n",
    "    cv.waitKey(0)    # holds the image in the window until closed explicitly\n",
    "except:\n",
    "    print('Error')"
   ]
  },
  {
   "cell_type": "markdown",
   "metadata": {},
   "source": [
    "Change the image name to __sample2.jpg__ to see the change. You could also download another image from the Internet and place it into the same folder and try to show it. "
   ]
  },
  {
   "cell_type": "markdown",
   "metadata": {},
   "source": [
    "## 1.2. Reading videos\n",
    "### 1.2.1. Reading video from a file\n",
    "\n",
    "* A video is a sequence of images \n",
    "* to read a video, first create a __VideoCapture__ object\n",
    "* Read the object frame by frame using a while loop. A capture pointer starts from the first frame and iterate across the stream. \n",
    "* When done, release the capture pointer. \n",
    "* Destroy the window buffer.  \n",
    "\n",
    "Notice the code is encapsulated within a `try - except` block to avoid any unanticipated exception such as wrong file name, corrupted file etc. "
   ]
  },
  {
   "cell_type": "code",
   "execution_count": 5,
   "metadata": {},
   "outputs": [],
   "source": [
    "video_location = 'videos/sample_vid1.mp4'   # specify the video location\n",
    "try:\n",
    "    capture = cv.VideoCapture(video_location)   # reads the video into a capture object \n",
    "\n",
    "    while True:\n",
    "        isTrue, frame = capture.read()  # reads the video frame by frame, isTrue is boolean that stores the read status(boolean)\n",
    "        cv.imshow(winname='Sample Video', mat=frame) # show images frame by frame \n",
    "        if cv.waitKey(20) & 0xFF == ord('d'):        # stop the video is the key 'd' is pressed (you can change as per your choice)\n",
    "            break\n",
    "    capture.release()      # release the capture pointer\n",
    "    cv.destroyAllWindows() # clear all memory resources  \n",
    "except:\n",
    "    print('Error !!')"
   ]
  },
  {
   "cell_type": "markdown",
   "metadata": {},
   "source": [
    "Change the video file to __sample_vid2.mp4__ "
   ]
  },
  {
   "cell_type": "markdown",
   "metadata": {},
   "source": [
    "### 1.2.2. Reading a video from a live source \n",
    "Reading video from a live feed needs a simple adjustment. __Use the video location to 0__ the number represents the video input.\n",
    "* 0 is the default webcam \n",
    "* 1 if you have any additional camera and so on."
   ]
  },
  {
   "cell_type": "code",
   "execution_count": 6,
   "metadata": {},
   "outputs": [],
   "source": [
    "video_location = 0   # specify the video location  as webcam\n",
    "try:\n",
    "    capture = cv.VideoCapture(video_location)   # reads the video into a capture object \n",
    "\n",
    "    while True:\n",
    "        isTrue, frame = capture.read()  # reads the video frame by frame, isTrue is boolean that stores the read status(boolean)\n",
    "        cv.imshow(winname='Sample Video', mat=frame) # show images frame by frame \n",
    "        if cv.waitKey(20) & 0xFF == ord('d'):        # stop the video is the key 'd' is pressed (you can change as per your choice)\n",
    "            break\n",
    "    capture.release()      # release the capture pointer\n",
    "    cv.destroyAllWindows() # clear all memory resources  \n",
    "except:\n",
    "    print('Error !!')"
   ]
  },
  {
   "cell_type": "markdown",
   "metadata": {},
   "source": [
    "# Task 2: Scaling and Resizing \n",
    "\n",
    "* Large video files consume significant GPU resource to process\n",
    "* __Downscaling__ : Sometimes, a video frame is larger than the display screen size (watching 4K video in a 1080p screen). In such as case to reduce the unnecessary computation, it's a good idea to scale a video down to manageable size. \n",
    "* __Upscaling__ : On the contrary to _Downscaling_, the _Upscaling_ process increases each frame of a video and displays it (HD Ready feature, that takes a 1080p screen and displays a 4K version of it)\n",
    "* Its a best-practice to downscale a video for processing. "
   ]
  },
  {
   "cell_type": "markdown",
   "metadata": {},
   "source": [
    "## Task 2.1. Custom Scaling "
   ]
  },
  {
   "cell_type": "markdown",
   "metadata": {},
   "source": [
    "__Step1 :__ We first start with creating a custom function called `scale_frame(frame, scale, side_by_side)` that takes a frame to be scaled and a scale factor (float) and returns a scaled frame by __Interpolation__. The __side_by_side__ parameter is unset by default, if it's set, the scaled and the original video will play side by side.   "
   ]
  },
  {
   "cell_type": "code",
   "execution_count": 7,
   "metadata": {},
   "outputs": [],
   "source": [
    "def scale_frame(frame, scale):\n",
    "    # read the actual height and weight, scale it and store\n",
    "    height = int(frame.shape[0]*scale)\n",
    "    width = int(frame.shape[1]*scale)\n",
    "    \n",
    "    #return the scaled frame\n",
    "    return cv.resize(frame, (width, height), interpolation=cv.INTER_AREA) # performs rescaling by interpolation"
   ]
  },
  {
   "cell_type": "markdown",
   "metadata": {},
   "source": [
    "__Step 2:__ Create a read_video function that takes a video source(either a video file or a camera index), a scale factor as input and displays a scaled video."
   ]
  },
  {
   "cell_type": "code",
   "execution_count": 11,
   "metadata": {},
   "outputs": [],
   "source": [
    "def read_video(source, scale, side_by_side=False):\n",
    "    try:\n",
    "        capture = cv.VideoCapture(source)\n",
    "        while True:\n",
    "            isTrue, frame = capture.read()\n",
    "            scaled_frame = scale_frame(frame, scale)  # calls the scale_frame function to scale each frame \n",
    "            \n",
    "            cv.imshow('scaled video', scaled_frame)\n",
    "            if side_by_side:\n",
    "                cv.imshow('original video', frame)\n",
    "            \n",
    "            if cv.waitKey(20) & 0XFF == ord('d'):\n",
    "                break\n",
    "        capture.release()\n",
    "    except:\n",
    "        print('error')\n",
    "    finally:\n",
    "        cv.destroyAllWindows()"
   ]
  },
  {
   "cell_type": "markdown",
   "metadata": {},
   "source": [
    "__Step 3:__ Verify"
   ]
  },
  {
   "cell_type": "code",
   "execution_count": 13,
   "metadata": {},
   "outputs": [],
   "source": [
    "read_video(source=0, scale=2, side_by_side=True) # calling read_video with live feed, scaling 2X and playing with original by side."
   ]
  },
  {
   "cell_type": "markdown",
   "metadata": {},
   "source": [
    "## 2.2. Playing with various capture attributes"
   ]
  },
  {
   "cell_type": "markdown",
   "metadata": {},
   "source": [
    "Basic Capture parameters:\n",
    "\n",
    "| id |  Parameter | meaning |\n",
    "|---|---|---|\n",
    "| 3 | CAP_PROP_FRAME_WIDTH | width |\n",
    "| 4 | CAP_PROP_FRAME_HEIGHT | Height |\n",
    "| 5 | CAP_PROP_FPS | FPS |\n",
    "| 6 | CAP_PROP_POS_MSEC | Current position of the capture pointer |\n",
    "| 7 | CAP_PROP_FRAME_COUNT | total number of frames in the video file|\n",
    "| 8 | CAP_PROP_BRIGHTNESS | It only works with a camera or webcam. Used to find out the brightness | \n",
    "| 9 | CAP_PROP_CONTRAST | This property also works with the camera or webcam only. Used to find out the contrast on images captured |\n",
    "| 10 | CAP_PROP_SATURATION | This is used to get the saturation of live frames capturing via cameras. This also doesn’t work on the video file.|\n",
    "|11 | CAP_PROP_HUE | This is for knowing the HUE value of the image. Only for cameras.|\n",
    "|12 | CAP_PROP_GAIN | This property is used to get the gain of the image. Wouldn’t work with the video file, simply return “0” if applied on a video file|\n",
    "|13| CAP_PROP_CONVERT_RGB | This property returns a Boolean value which indicates whether the images should be converted to RGB colorspace or not | \n",
    "\n",
    "\n",
    "\n",
    "\n"
   ]
  },
  {
   "cell_type": "markdown",
   "metadata": {},
   "source": [
    "### 2.2.1 Getting the params\n",
    "\n",
    "The following code will read the basic OpenCV parameter from a live video and shows it while streaming from the source. "
   ]
  },
  {
   "cell_type": "code",
   "execution_count": 43,
   "metadata": {},
   "outputs": [],
   "source": [
    "from IPython.display import clear_output\n",
    "\n",
    "def show_details(capture):   # prints the basic attributes \n",
    "    clear_output(wait=True)  # clear the notebook cell after printing \n",
    "    print(f\"CAP_PROP_FRAME_WIDTH \\t: {capture.get(cv.CAP_PROP_FRAME_WIDTH)}\")\n",
    "    print(f\"CAP_PROP_FRAME_HEIGHT \\t: {capture.get(cv.CAP_PROP_FRAME_HEIGHT)}\")\n",
    "    print(f\"CAP_PROP_FPS        \\t: {capture.get(cv.CAP_PROP_FPS)}\")\n",
    "    print(f\"CAP_PROP_POS_MSEC   \\t: {capture.get(cv.CAP_PROP_POS_MSEC)}\")\n",
    "    print(f\"CAP_PROP_FRAME_COUNT \\t: {capture.get(cv.CAP_PROP_FRAME_COUNT)}\")\n",
    "    print(f\"CAP_PROP_BRIGHTNESS \\t: {capture.get(cv.CAP_PROP_BRIGHTNESS)}\")\n",
    "    print(f\"CAP_PROP_CONTRAST   \\t: {capture.get(cv.CAP_PROP_CONTRAST)}\")\n",
    "    print(f\"CAP_PROP_SATURATION \\t: {capture.get(cv.CAP_PROP_SATURATION)}\")\n",
    "    print(f\"CAP_PROP_HUE        \\t: {capture.get(cv.CAP_PROP_HUE)}\")\n",
    "    print(f\"CAP_PROP_GAIN       \\t: {capture.get(cv.CAP_PROP_GAIN)}\")\n",
    "    print(f\"CAP_PROP_CONVERT_RGB \\t: {capture.get(cv.CAP_PROP_CONVERT_RGB)}\")\n",
    "\n",
    "def show_video(source): \n",
    "    capture = cv.VideoCapture(source)\n",
    "    while True:\n",
    "        isTrue, frame = capture.read()\n",
    "        show_details(capture)   # calling the capture details \n",
    "        cv.imshow('Window', frame)\n",
    "        if cv.waitKey(20) & 0xFF == ord('d'): # press 'd' to exit\n",
    "            break\n",
    "    capture.release()\n",
    "    cv.destroyAllWindows()"
   ]
  },
  {
   "cell_type": "code",
   "execution_count": 41,
   "metadata": {},
   "outputs": [
    {
     "name": "stdout",
     "output_type": "stream",
     "text": [
      "CAP_PROP_FRAME_WIDTH \t: 640.0\n",
      "CAP_PROP_FRAME_HEIGHT \t: 480.0\n",
      "CAP_PROP_FPS        \t: 30.0\n",
      "CAP_PROP_POS_MSEC   \t: 736991915.211\n",
      "CAP_PROP_FRAME_COUNT \t: -1.0\n",
      "CAP_PROP_BRIGHTNESS \t: 0.0\n",
      "CAP_PROP_CONTRAST   \t: 0.0\n",
      "CAP_PROP_SATURATION \t: 64.0\n",
      "CAP_PROP_HUE        \t: 0.0\n",
      "CAP_PROP_GAIN       \t: 1.0\n",
      "CAP_PROP_CONVERT_RGB \t: 1.0\n"
     ]
    }
   ],
   "source": [
    "show_video(source=0) # calling the live capture"
   ]
  },
  {
   "cell_type": "markdown",
   "metadata": {},
   "source": [
    "### 2.2.2. Setting the params "
   ]
  },
  {
   "cell_type": "code",
   "execution_count": 12,
   "metadata": {},
   "outputs": [],
   "source": [
    "## set params\n",
    "alter_param = {\n",
    "    'width' : 800, \n",
    "    'height': 600, \n",
    "    'fps' : 30, \n",
    "    'brightness' : 0,\n",
    "    'contrast' : 5,\n",
    "    'saturation' : 100,\n",
    "    'hue': 0,\n",
    "    'gain' : 1,\n",
    "    'rgb' : 1 \n",
    "}"
   ]
  },
  {
   "cell_type": "code",
   "execution_count": 13,
   "metadata": {},
   "outputs": [],
   "source": [
    "# sourcecode\n",
    "from IPython.display import clear_output\n",
    "\n",
    "def show_details(capture):   # prints the basic attributes \n",
    "    clear_output(wait=True)  # clear the notebook cell after printing \n",
    "    print(f\"CAP_PROP_FRAME_WIDTH \\t: {capture.get(cv.CAP_PROP_FRAME_WIDTH)}\")\n",
    "    print(f\"CAP_PROP_FRAME_HEIGHT \\t: {capture.get(cv.CAP_PROP_FRAME_HEIGHT)}\")\n",
    "    print(f\"CAP_PROP_FPS        \\t: {capture.get(cv.CAP_PROP_FPS)}\")\n",
    "    print(f\"CAP_PROP_POS_MSEC   \\t: {capture.get(cv.CAP_PROP_POS_MSEC)}\")\n",
    "    print(f\"CAP_PROP_FRAME_COUNT \\t: {capture.get(cv.CAP_PROP_FRAME_COUNT)}\")\n",
    "    print(f\"CAP_PROP_BRIGHTNESS \\t: {capture.get(cv.CAP_PROP_BRIGHTNESS)}\")\n",
    "    print(f\"CAP_PROP_CONTRAST   \\t: {capture.get(cv.CAP_PROP_CONTRAST)}\")\n",
    "    print(f\"CAP_PROP_SATURATION \\t: {capture.get(cv.CAP_PROP_SATURATION)}\")\n",
    "    print(f\"CAP_PROP_HUE        \\t: {capture.get(cv.CAP_PROP_HUE)}\")\n",
    "    print(f\"CAP_PROP_GAIN       \\t: {capture.get(cv.CAP_PROP_GAIN)}\")\n",
    "    print(f\"CAP_PROP_CONVERT_RGB \\t: {capture.get(cv.CAP_PROP_CONVERT_RGB)}\")\n",
    "\n",
    "def alter_params(capture, alter_param):   # alters the parameters \n",
    "    capture.set(cv.CAP_PROP_FRAME_WIDTH, alter_param['width'])\n",
    "    capture.set(cv.CAP_PROP_FRAME_HEIGHT, alter_param['height'])\n",
    "    capture.set(cv.CAP_PROP_FPS, alter_param['fps'])\n",
    "    capture.set(cv.CAP_PROP_BRIGHTNESS, alter_param['brightness'])\n",
    "    capture.set(cv.CAP_PROP_CONTRAST, alter_param['contrast'])\n",
    "    capture.set(cv.CAP_PROP_SATURATION, alter_param['saturation'])\n",
    "    capture.set(cv.CAP_PROP_HUE, alter_param['hue'])\n",
    "    capture.set(cv.CAP_PROP_GAIN, alter_param['gain'])\n",
    "    capture.set(cv.CAP_PROP_CONVERT_RGB, alter_param['rgb'])\n",
    "    return capture\n",
    "\n",
    "def show_video(source):    # renders the video stream \n",
    "    print('Preparing capture... ')\n",
    "    try:\n",
    "        capture = cv.VideoCapture(source)\n",
    "        capture = alter_params(capture, alter_param)\n",
    "        print('Displaying... ')\n",
    "        while True:\n",
    "            isTrue, frame = capture.read()\n",
    "            show_details(capture)   # calling the capture details \n",
    "            cv.imshow('Window', frame)\n",
    "            if cv.waitKey(20) & 0xFF == ord('d'): # press 'd' to exit\n",
    "                break\n",
    "        capture.release()\n",
    "    except:\n",
    "        print('Error')\n",
    "    finally:\n",
    "        cv.destroyAllWindows()"
   ]
  },
  {
   "cell_type": "code",
   "execution_count": 14,
   "metadata": {},
   "outputs": [
    {
     "name": "stdout",
     "output_type": "stream",
     "text": [
      "CAP_PROP_FRAME_WIDTH \t: 848.0\n",
      "CAP_PROP_FRAME_HEIGHT \t: 480.0\n",
      "CAP_PROP_FPS        \t: 30.0\n",
      "CAP_PROP_POS_MSEC   \t: 738531011.6444\n",
      "CAP_PROP_FRAME_COUNT \t: -1.0\n",
      "CAP_PROP_BRIGHTNESS \t: 0.0\n",
      "CAP_PROP_CONTRAST   \t: 0.0\n",
      "CAP_PROP_SATURATION \t: 64.0\n",
      "CAP_PROP_HUE        \t: 0.0\n",
      "CAP_PROP_GAIN       \t: 1.0\n",
      "CAP_PROP_CONVERT_RGB \t: 1.0\n"
     ]
    }
   ],
   "source": [
    "show_video(source=0)"
   ]
  },
  {
   "cell_type": "code",
   "execution_count": null,
   "metadata": {},
   "outputs": [],
   "source": []
  }
 ],
 "metadata": {
  "interpreter": {
   "hash": "0f3bb31c5957d94de20b221c63d8001d2e67169bbb608e5802db09df6465f3be"
  },
  "kernelspec": {
   "display_name": "Python 3.9.7 64-bit ('venv': venv)",
   "language": "python",
   "name": "python3"
  },
  "language_info": {
   "codemirror_mode": {
    "name": "ipython",
    "version": 3
   },
   "file_extension": ".py",
   "mimetype": "text/x-python",
   "name": "python",
   "nbconvert_exporter": "python",
   "pygments_lexer": "ipython3",
   "version": "3.9.7"
  },
  "orig_nbformat": 4
 },
 "nbformat": 4,
 "nbformat_minor": 2
}
